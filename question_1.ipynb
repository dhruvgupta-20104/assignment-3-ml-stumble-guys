{
 "cells": [
  {
   "cell_type": "code",
   "execution_count": 1,
   "metadata": {},
   "outputs": [],
   "source": [
    "import pandas as pd\n",
    "import numpy as np\n",
    "import torch\n",
    "import torch.nn.functional as F\n",
    "from torch import nn"
   ]
  },
  {
   "cell_type": "code",
   "execution_count": 2,
   "metadata": {},
   "outputs": [],
   "source": [
    "dataset = ''\n",
    "with open('Merchant of Venice.txt', 'r') as f:\n",
    "    # Read the file line by line\n",
    "    for line in f:\n",
    "        # Print or process each line\n",
    "        if line[0] == ' ':\n",
    "            line = line.lower()\n",
    "            line = line.strip()\n",
    "            line = line + '\\n'\n",
    "            line_chars = [char for char in line]\n",
    "            dataset += line"
   ]
  },
  {
   "cell_type": "code",
   "execution_count": 3,
   "metadata": {},
   "outputs": [
    {
     "name": "stdout",
     "output_type": "stream",
     "text": [
      "{0: '\\n', 1: ' ', 2: '!', 3: \"'\", 4: ',', 5: '-', 6: '.', 7: ':', 8: ';', 9: '?', 10: '[', 11: ']', 12: 'a', 13: 'b', 14: 'c', 15: 'd', 16: 'e', 17: 'f', 18: 'g', 19: 'h', 20: 'i', 21: 'j', 22: 'k', 23: 'l', 24: 'm', 25: 'n', 26: 'o', 27: 'p', 28: 'q', 29: 'r', 30: 's', 31: 't', 32: 'u', 33: 'v', 34: 'w', 35: 'x', 36: 'y', 37: 'z'}\n",
      "{'\\n': 0, ' ': 1, '!': 2, \"'\": 3, ',': 4, '-': 5, '.': 6, ':': 7, ';': 8, '?': 9, '[': 10, ']': 11, 'a': 12, 'b': 13, 'c': 14, 'd': 15, 'e': 16, 'f': 17, 'g': 18, 'h': 19, 'i': 20, 'j': 21, 'k': 22, 'l': 23, 'm': 24, 'n': 25, 'o': 26, 'p': 27, 'q': 28, 'r': 29, 's': 30, 't': 31, 'u': 32, 'v': 33, 'w': 34, 'x': 35, 'y': 36, 'z': 37}\n"
     ]
    }
   ],
   "source": [
    "chars = sorted(list(set(''.join(dataset))))\n",
    "stoi = {s:i for i,s in enumerate(chars)}\n",
    "itos = {i:s for s,i in stoi.items()}\n",
    "print(itos)\n",
    "print(stoi)"
   ]
  },
  {
   "cell_type": "code",
   "execution_count": 4,
   "metadata": {},
   "outputs": [],
   "source": [
    "class NextChar(nn.Module):\n",
    "  def __init__(self, context, vocab_size, emb_dim, hidden_size):\n",
    "    super().__init__()\n",
    "    self.emb = nn.Embedding(vocab_size, emb_dim)\n",
    "    self.lin1 = nn.Linear(context * emb_dim, hidden_size)\n",
    "    self.lin2 = nn.Linear(hidden_size, vocab_size)\n",
    "\n",
    "  def forward(self, x):\n",
    "    x = self.emb(x)\n",
    "    x = x.view(x.shape[0], -1)\n",
    "    x = torch.sin(self.lin1(x))\n",
    "    x = self.lin2(x)\n",
    "    return x"
   ]
  },
  {
   "cell_type": "code",
   "execution_count": 23,
   "metadata": {},
   "outputs": [],
   "source": [
    "context = 7"
   ]
  },
  {
   "cell_type": "code",
   "execution_count": 24,
   "metadata": {},
   "outputs": [
    {
     "name": "stdout",
     "output_type": "stream",
     "text": [
      "emb_size 5\n",
      "\thidden_layer_size 5\n",
      "\thidden_layer_size 10\n",
      "\thidden_layer_size 15\n",
      "\thidden_layer_size 20\n",
      "emb_size 6\n",
      "\thidden_layer_size 5\n",
      "\thidden_layer_size 10\n",
      "\thidden_layer_size 15\n",
      "\thidden_layer_size 20\n"
     ]
    }
   ],
   "source": [
    "for i in range(2, 7):\n",
    "    print(\"emb_size\", i)\n",
    "    emb_size = i\n",
    "    for j in [5, 10, 15, 20]:\n",
    "        print(\"\\thidden_layer_size\", j)\n",
    "        hidden_layer_size = j\n",
    "        X, Y = [], []\n",
    "        for i in range(context, len(dataset)):\n",
    "            x = [stoi[dataset[i-k]] for k in range(context, 0, -1)]\n",
    "            X.append(x)\n",
    "            Y.append(sto\n",
    "                     i[dataset[i]])\n",
    "        X = torch.tensor(X)\n",
    "        Y = torch.tensor(Y)\n",
    "        model = NextChar(context, len(stoi), emb_size, hidden_layer_size)\n",
    "        loss_fn = nn.CrossEntropyLoss()\n",
    "        opt = torch.optim.AdamW(model.parameters(), lr=0.01)\n",
    "        # Mini-batch training\n",
    "        batch_size = 4096\n",
    "        elapsed_time = []\n",
    "        for epoch in range(1000):\n",
    "            for i in range(0, X.shape[0], batch_size):\n",
    "                x = X[i:i+batch_size]\n",
    "                y = Y[i:i+batch_size]\n",
    "                y_pred = model(x)\n",
    "                loss = loss_fn(y_pred, y)\n",
    "                loss.backward()\n",
    "                opt.step()\n",
    "                opt.zero_grad()\n",
    "        torch.save(model.state_dict(), 'trained_models/{}_{}_{}'.format(context, emb_size, hidden_layer_size))"
   ]
  }
 ],
 "metadata": {
  "kernelspec": {
   "display_name": "Python 3",
   "language": "python",
   "name": "python3"
  },
  "language_info": {
   "codemirror_mode": {
    "name": "ipython",
    "version": 3
   },
   "file_extension": ".py",
   "mimetype": "text/x-python",
   "name": "python",
   "nbconvert_exporter": "python",
   "pygments_lexer": "ipython3",
   "version": "3.10.0"
  }
 },
 "nbformat": 4,
 "nbformat_minor": 2
}
